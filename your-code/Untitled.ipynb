{
 "cells": [
  {
   "cell_type": "code",
   "execution_count": 2,
   "metadata": {},
   "outputs": [
    {
     "name": "stdout",
     "output_type": "stream",
     "text": [
      "Welcome to this calculator!\n",
      "It can add and subtract whole numbers from zero to five\n",
      "Please choose your first number (zero to five): 2\n",
      "What do you want to do? plus or minus: plus\n",
      "Please choose your second number (zero to five): 7\n",
      "2 plus 7 equals 27\n"
     ]
    }
   ],
   "source": [
    "'''\n",
    "L.S. Well done, the structure looks good. However, the error (try-except) checking does not seem to work, as\n",
    "- when I type in an int instead of plus or minus - it doesn't ask me again.\n",
    "\n",
    "Also, when I pass 2 and 7 and add those, it says that 2 + 7 = 27. Be careful with concatenation and check your code! \n",
    "'''\n",
    "\n",
    "print('Welcome to this calculator!')\n",
    "print('It can add and subtract whole numbers from zero to five')\n",
    "\n",
    "try:\n",
    "    a = input('Please choose your first number (zero to five): ')\n",
    "    b = input('What do you want to do? plus or minus: ')\n",
    "    c = input('Please choose your second number (zero to five): ')\n",
    "except ValueError:\n",
    "    print(\"I am not able to answer this question. Check your input.\")\n",
    "\n",
    "def string_to_number(x):\n",
    "    if x == 'zero':\n",
    "        x = 0\n",
    "    elif x =='one':\n",
    "        x = 1\n",
    "    elif x =='two':\n",
    "        x = 2\n",
    "    elif x =='three':\n",
    "        x = 3\n",
    "    elif x =='four':\n",
    "        x = 4\n",
    "    elif x =='five':\n",
    "        x = 5\n",
    "    return x\n",
    "\n",
    "def number_to_string(x):\n",
    "    if x == 0:\n",
    "        x = 'zero'\n",
    "    if x == 1:\n",
    "        x = 'one'\n",
    "    if x == 2:\n",
    "        x = 'two'\n",
    "    if x == 3:\n",
    "        x = 'three'\n",
    "    if x == 4:\n",
    "        x = 'four'\n",
    "    if x == 5:\n",
    "        x = 'five'\n",
    "    if x == 6:\n",
    "        x = 'six'\n",
    "    if x == 7:\n",
    "        x = 'seven'\n",
    "    if x == 8:\n",
    "        x = 'eigth'\n",
    "    if x == 9:\n",
    "        x = 'nine'\n",
    "    if x == 10:\n",
    "        x = 'ten'\n",
    "    return x\n",
    "\n",
    "def result(a, b, c):\n",
    "    if b == 'plus':\n",
    "        x = string_to_number(a) + string_to_number(c)\n",
    "        print(number_to_string(a) +' '+b+' ' + number_to_string(c), 'equals', number_to_string(x))\n",
    "    elif (b == 'minus') and (string_to_number(a) >= string_to_number(c)):\n",
    "        x = string_to_number(a) - string_to_number(c)\n",
    "        print(number_to_string(a) +' '+b+' ' + number_to_string(c), 'equals', number_to_string(x))\n",
    "    elif (b == 'minus') and (string_to_number(a) < string_to_number(c)):\n",
    "        x = string_to_number(c) - string_to_number(a)\n",
    "        print(number_to_string(a) +' '+b+' ' + number_to_string(c), 'equals negative', number_to_string(x))\n",
    "\n",
    "result(a, b, c) \n"
   ]
  },
  {
   "cell_type": "code",
   "execution_count": null,
   "metadata": {},
   "outputs": [],
   "source": []
  }
 ],
 "metadata": {
  "kernelspec": {
   "display_name": "Python 3",
   "language": "python",
   "name": "python3"
  },
  "language_info": {
   "codemirror_mode": {
    "name": "ipython",
    "version": 3
   },
   "file_extension": ".py",
   "mimetype": "text/x-python",
   "name": "python",
   "nbconvert_exporter": "python",
   "pygments_lexer": "ipython3",
   "version": "3.6.4"
  }
 },
 "nbformat": 4,
 "nbformat_minor": 2
}
